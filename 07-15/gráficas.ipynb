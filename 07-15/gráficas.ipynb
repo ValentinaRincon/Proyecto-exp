{
 "cells": [
  {
   "cell_type": "markdown",
   "id": "d333f9e0",
   "metadata": {},
   "source": [
    "# Librerías"
   ]
  },
  {
   "cell_type": "code",
   "execution_count": 4,
   "id": "6e487221",
   "metadata": {},
   "outputs": [],
   "source": [
    "import numpy as np\n",
    "import matplotlib.pyplot as plt\n",
    "import csv"
   ]
  },
  {
   "cell_type": "markdown",
   "id": "de49094e",
   "metadata": {},
   "source": [
    "# Datos"
   ]
  },
  {
   "cell_type": "code",
   "execution_count": 5,
   "id": "6cbf6b73",
   "metadata": {},
   "outputs": [],
   "source": [
    "def limpiar_valor(valor):\n",
    "    valor = valor.strip()\n",
    "    partes = valor.split('.')\n",
    "    \n",
    "    if len(partes) <= 2:\n",
    "        # Tiene uno o ningún punto → está bien\n",
    "        return valor\n",
    "    else:\n",
    "        # Más de un punto → unimos todo menos el último con '' y dejamos el último como decimal\n",
    "        entero = ''.join(partes[:-1])\n",
    "        decimal = partes[-1]\n",
    "        return f\"{entero}.{decimal}\"\n",
    "\n",
    "def datos(csv_file_path):\n",
    "    tabla = []\n",
    "    with open(csv_file_path, newline='', encoding='utf-8') as archivo:\n",
    "        lector = csv.reader(archivo, delimiter=';')\n",
    "        for fila in lector:\n",
    "            fila_limpia = []\n",
    "            for celda in fila:\n",
    "                valor = limpiar_valor(celda)\n",
    "                try:\n",
    "                    fila_limpia.append(float(valor))\n",
    "                except ValueError:\n",
    "                    fila_limpia.append(valor.strip())  # No es número, mantenemos como texto\n",
    "            tabla.append(fila_limpia)\n",
    "    return tabla"
   ]
  },
  {
   "cell_type": "markdown",
   "id": "300a141b",
   "metadata": {},
   "source": [
    "# Muestra con EDTA"
   ]
  },
  {
   "cell_type": "code",
   "execution_count": 6,
   "id": "0ef6dbf4",
   "metadata": {},
   "outputs": [],
   "source": [
    "em_m_edta = datos('Emision muestra con EDTA_Ext470.csv')\n",
    "\n",
    "em_p_edta = datos('Emision positivo con EDTA_Ext470.csv')"
   ]
  }
 ],
 "metadata": {
  "kernelspec": {
   "display_name": "Python 3",
   "language": "python",
   "name": "python3"
  },
  "language_info": {
   "codemirror_mode": {
    "name": "ipython",
    "version": 3
   },
   "file_extension": ".py",
   "mimetype": "text/x-python",
   "name": "python",
   "nbconvert_exporter": "python",
   "pygments_lexer": "ipython3",
   "version": "3.12.10"
  }
 },
 "nbformat": 4,
 "nbformat_minor": 5
}
