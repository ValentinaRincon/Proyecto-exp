{
 "cells": [
  {
   "cell_type": "markdown",
   "id": "debac3aa",
   "metadata": {},
   "source": [
    "Librerías"
   ]
  },
  {
   "cell_type": "code",
   "execution_count": 19,
   "id": "1f07883c",
   "metadata": {},
   "outputs": [],
   "source": [
    "import numpy as np\n",
    "import matplotlib.pyplot as plt\n",
    "import os\n",
    "import re"
   ]
  },
  {
   "cell_type": "markdown",
   "id": "9b538083",
   "metadata": {},
   "source": [
    "Datos"
   ]
  },
  {
   "cell_type": "code",
   "execution_count": 20,
   "id": "e81d9559",
   "metadata": {},
   "outputs": [],
   "source": [
    "with open('datos.csv', 'r') as file:\n",
    "    data = file.readlines()\n",
    "data = [line.strip().split(';') for line in data if line.strip()]"
   ]
  },
  {
   "cell_type": "code",
   "execution_count": 21,
   "id": "81ad3086",
   "metadata": {},
   "outputs": [
    {
     "data": {
      "text/plain": [
       "[['ï»¿t', 'Abs 600', 't', 'Abs 600'],\n",
       " ['ON', '1,113', 'ON', '0,622'],\n",
       " ['1', '0,01', '1', '0,007'],\n",
       " ['2', '0,006', '2', '0,005'],\n",
       " ['3', '0,012', '3', '0,024'],\n",
       " ['4', '0,023', '4', '0,02'],\n",
       " ['5', '0,043', '5', '0,078'],\n",
       " ['6', '0,083', '6', '0,074'],\n",
       " ['7', '0,138', '7', '0,123'],\n",
       " ['8', '0,179', '8', '0,189'],\n",
       " ['9', '0,212', '9', '0,201'],\n",
       " ['10', '0,26', '10', '0,248'],\n",
       " ['11', '0,29', '11', '0,27'],\n",
       " ['12', '0,318', '12', '0,303'],\n",
       " ['13', '0,349', '13', '0,33'],\n",
       " ['14', '0,374', '14', '0,322'],\n",
       " ['Valentina', '', 'Brigeth', '']]"
      ]
     },
     "execution_count": 21,
     "metadata": {},
     "output_type": "execute_result"
    }
   ],
   "source": [
    "data"
   ]
  },
  {
   "cell_type": "code",
   "execution_count": 22,
   "id": "4bcfefae",
   "metadata": {},
   "outputs": [],
   "source": [
    "val = []\n",
    "bri = []"
   ]
  },
  {
   "cell_type": "code",
   "execution_count": null,
   "id": "da7626a8",
   "metadata": {},
   "outputs": [
    {
     "ename": "ValueError",
     "evalue": "could not convert string to float: '1,113'",
     "output_type": "error",
     "traceback": [
      "\u001b[1;31m---------------------------------------------------------------------------\u001b[0m",
      "\u001b[1;31mValueError\u001b[0m                                Traceback (most recent call last)",
      "Cell \u001b[1;32mIn[25], line 7\u001b[0m\n\u001b[0;32m      5\u001b[0m \u001b[38;5;28;01mif\u001b[39;00m j \u001b[38;5;241m==\u001b[39m \u001b[38;5;241m0\u001b[39m:\n\u001b[0;32m      6\u001b[0m     j \u001b[38;5;241m=\u001b[39m \u001b[38;5;241m1\u001b[39m\n\u001b[1;32m----> 7\u001b[0m     val\u001b[38;5;241m.\u001b[39mappend(\u001b[38;5;28;43mfloat\u001b[39;49m\u001b[43m(\u001b[49m\u001b[43mdata\u001b[49m\u001b[43m[\u001b[49m\u001b[43mi\u001b[49m\u001b[43m]\u001b[49m\u001b[43m[\u001b[49m\u001b[43mj\u001b[49m\u001b[43m]\u001b[49m\u001b[43m)\u001b[49m)\n\u001b[0;32m      8\u001b[0m \u001b[38;5;28;01mif\u001b[39;00m j \u001b[38;5;241m==\u001b[39m \u001b[38;5;241m2\u001b[39m:\n\u001b[0;32m      9\u001b[0m     j \u001b[38;5;241m=\u001b[39m \u001b[38;5;241m3\u001b[39m\n",
      "\u001b[1;31mValueError\u001b[0m: could not convert string to float: '1,113'"
     ]
    }
   ],
   "source": [
    "for i in range(len(data)):\n",
    "    if i == 0:\n",
    "        i += 1\n",
    "        for j in range(len(data[i])):\n",
    "            if j == 1:\n",
    "                val.append(float(data[i][j]))\n",
    "            if j == 3:\n",
    "                bri.append(float(data[i][j]))\n",
    "\n",
    "\n",
    "            \n",
    "\n"
   ]
  }
 ],
 "metadata": {
  "kernelspec": {
   "display_name": "Python 3",
   "language": "python",
   "name": "python3"
  },
  "language_info": {
   "codemirror_mode": {
    "name": "ipython",
    "version": 3
   },
   "file_extension": ".py",
   "mimetype": "text/x-python",
   "name": "python",
   "nbconvert_exporter": "python",
   "pygments_lexer": "ipython3",
   "version": "3.12.10"
  }
 },
 "nbformat": 4,
 "nbformat_minor": 5
}
