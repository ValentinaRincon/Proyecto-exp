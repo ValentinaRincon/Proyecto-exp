{
 "cells": [
  {
   "cell_type": "markdown",
   "id": "debac3aa",
   "metadata": {},
   "source": [
    "Librerías"
   ]
  },
  {
   "cell_type": "code",
   "execution_count": 70,
   "id": "1f07883c",
   "metadata": {},
   "outputs": [],
   "source": [
    "import numpy as np\n",
    "import matplotlib.pyplot as plt"
   ]
  },
  {
   "cell_type": "markdown",
   "id": "9b538083",
   "metadata": {},
   "source": [
    "Datos"
   ]
  },
  {
   "cell_type": "code",
   "execution_count": 71,
   "id": "e81d9559",
   "metadata": {},
   "outputs": [],
   "source": [
    "with open('datos.csv', 'r') as file:\n",
    "    data = file.readlines()\n",
    "data = [line.strip().split(';') for line in data if line.strip()]"
   ]
  },
  {
   "cell_type": "code",
   "execution_count": 72,
   "id": "81ad3086",
   "metadata": {},
   "outputs": [
    {
     "data": {
      "text/plain": [
       "[['ï»¿t', 'Abs 600', 't', 'Abs 600'],\n",
       " ['ON', '1,113', 'ON', '0,622'],\n",
       " ['1', '0,01', '1', '0,007'],\n",
       " ['2', '0,006', '2', '0,005'],\n",
       " ['3', '0,012', '3', '0,024'],\n",
       " ['4', '0,023', '4', '0,02'],\n",
       " ['5', '0,043', '5', '0,078'],\n",
       " ['6', '0,083', '6', '0,074'],\n",
       " ['7', '0,138', '7', '0,123'],\n",
       " ['8', '0,179', '8', '0,189'],\n",
       " ['9', '0,212', '9', '0,201'],\n",
       " ['10', '0,26', '10', '0,248'],\n",
       " ['11', '0,29', '11', '0,27'],\n",
       " ['12', '0,318', '12', '0,303'],\n",
       " ['13', '0,349', '13', '0,33'],\n",
       " ['14', '0,374', '14', '0,322'],\n",
       " ['Valentina', '', 'Brigeth', '']]"
      ]
     },
     "execution_count": 72,
     "metadata": {},
     "output_type": "execute_result"
    }
   ],
   "source": [
    "data"
   ]
  },
  {
   "cell_type": "markdown",
   "id": "9f9c73b2",
   "metadata": {},
   "source": [
    "Corrección de los datos"
   ]
  },
  {
   "cell_type": "code",
   "execution_count": 73,
   "id": "19e9e1fd",
   "metadata": {},
   "outputs": [],
   "source": [
    "def decimal(data):\n",
    "    return data.replace(',', '').replace('.', '').isdigit() and ',' in data"
   ]
  },
  {
   "cell_type": "code",
   "execution_count": 74,
   "id": "66df9540",
   "metadata": {},
   "outputs": [],
   "source": [
    "data = [\n",
    "    [float(valor.replace(',', '.')) if decimal(valor) else valor for valor in fila]\n",
    "    for fila in data\n",
    "]"
   ]
  },
  {
   "cell_type": "code",
   "execution_count": 75,
   "id": "0969ad55",
   "metadata": {},
   "outputs": [
    {
     "data": {
      "text/plain": [
       "[['ï»¿t', 'Abs 600', 't', 'Abs 600'],\n",
       " ['ON', 1.113, 'ON', 0.622],\n",
       " ['1', 0.01, '1', 0.007],\n",
       " ['2', 0.006, '2', 0.005],\n",
       " ['3', 0.012, '3', 0.024],\n",
       " ['4', 0.023, '4', 0.02],\n",
       " ['5', 0.043, '5', 0.078],\n",
       " ['6', 0.083, '6', 0.074],\n",
       " ['7', 0.138, '7', 0.123],\n",
       " ['8', 0.179, '8', 0.189],\n",
       " ['9', 0.212, '9', 0.201],\n",
       " ['10', 0.26, '10', 0.248],\n",
       " ['11', 0.29, '11', 0.27],\n",
       " ['12', 0.318, '12', 0.303],\n",
       " ['13', 0.349, '13', 0.33],\n",
       " ['14', 0.374, '14', 0.322],\n",
       " ['Valentina', '', 'Brigeth', '']]"
      ]
     },
     "execution_count": 75,
     "metadata": {},
     "output_type": "execute_result"
    }
   ],
   "source": [
    "data"
   ]
  },
  {
   "cell_type": "code",
   "execution_count": 76,
   "id": "4bcfefae",
   "metadata": {},
   "outputs": [],
   "source": [
    "val = []\n",
    "bri = []"
   ]
  },
  {
   "cell_type": "code",
   "execution_count": 77,
   "id": "da7626a8",
   "metadata": {},
   "outputs": [],
   "source": [
    "for i in range(len(data)):\n",
    "    if i != 0:\n",
    "        for j in range(len(data[i])):\n",
    "            if j == 1 and data[i][j] != '':\n",
    "                val.append(float(data[i][j]))\n",
    "            if j == 3 and data[i][j] != '':\n",
    "                bri.append(float(data[i][j]))\n"
   ]
  },
  {
   "cell_type": "code",
   "execution_count": 78,
   "id": "94be3006",
   "metadata": {},
   "outputs": [
    {
     "data": {
      "text/plain": [
       "'\\n# Saltamos la primera fila (encabezado)\\nfor fila in data[1:]:\\n    if len(fila) > 3 and isinstance(fila[1], float) and isinstance(fila[3], float):\\n        val.append(fila[1])\\n        bri.append(fila[3])\\n'"
      ]
     },
     "execution_count": 78,
     "metadata": {},
     "output_type": "execute_result"
    }
   ],
   "source": [
    "# Mejor alternativa para evitar el error de índice\n",
    "\"\"\"\n",
    "# Saltamos la primera fila (encabezado)\n",
    "for fila in data[1:]:\n",
    "    if len(fila) > 3 and isinstance(fila[1], float) and isinstance(fila[3], float):\n",
    "        val.append(fila[1])\n",
    "        bri.append(fila[3])\n",
    "\"\"\""
   ]
  },
  {
   "cell_type": "code",
   "execution_count": 79,
   "id": "88456404",
   "metadata": {},
   "outputs": [
    {
     "name": "stdout",
     "output_type": "stream",
     "text": [
      "15\n",
      "--------------\n",
      "15\n"
     ]
    }
   ],
   "source": [
    "print(len(val))\n",
    "print(\"--------------\")\n",
    "print(len(bri))"
   ]
  },
  {
   "cell_type": "code",
   "execution_count": 80,
   "id": "3c0b3ba8",
   "metadata": {},
   "outputs": [],
   "source": [
    "t = [0, 60, 120, 150, 180, 210, 240, 270, 300, 330, 360, 390, 420, 450]"
   ]
  },
  {
   "cell_type": "markdown",
   "id": "15968e12",
   "metadata": {},
   "source": [
    "Gráfica"
   ]
  },
  {
   "cell_type": "code",
   "execution_count": 81,
   "id": "3d5ccc6a",
   "metadata": {},
   "outputs": [
    {
     "data": {
      "image/png": "[encoded data removed]",
      "text/plain": [
       "<Figure size 640x480 with 1 Axes>"
      ]
     },
     "metadata": {},
     "output_type": "display_data"
    }
   ],
   "source": [
    "val = val[1:]\n",
    "bri = bri[1:]\n",
    "\n",
    "plt.plot(t, val, marker='o', linestyle='-', color='blue', label='Valentina')\n",
    "plt.plot(t, bri, marker='s', linestyle='--', color='green', label='Brigeth')\n",
    "\n",
    "plt.title('Curvas de crecimiento para SA 401')\n",
    "plt.xlabel('Tiempo (minutos)')\n",
    "plt.ylabel('Absorbancia (Abs 600)')\n",
    "plt.xticks(t)\n",
    "plt.grid(True)\n",
    "plt.legend()\n",
    "plt.tight_layout()\n",
    "plt.show()\n"
   ]
  }
 ],
 "metadata": {
  "kernelspec": {
   "display_name": "Python 3",
   "language": "python",
   "name": "python3"
  },
  "language_info": {
   "codemirror_mode": {
    "name": "ipython",
    "version": 3
   },
   "file_extension": ".py",
   "mimetype": "text/x-python",
   "name": "python",
   "nbconvert_exporter": "python",
   "pygments_lexer": "ipython3",
   "version": "3.12.10"
  }
 },
 "nbformat": 4,
 "nbformat_minor": 5
}
